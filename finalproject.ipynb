{
 "cells": [
  {
   "cell_type": "markdown",
   "id": "a5c6c755-093d-46f0-9070-dab677082c84",
   "metadata": {},
   "source": [
    "### <u>SENTIMENT ANALYSIS OF DRUG REVIEWS USING ARTIFICIAL NEURAL NETWORKS </u>\n",
    "\n",
    "### Introduction\n",
    "\n",
    "NLP ( Natural language processing) is a sub-field of Artificial Intelligence and computational linguistic that focuses on the interaction between computer and human language.It involves a range of techniques and approaches to process and analyze text data. One such method is Sentiment analysis.\n",
    "\n",
    "Sentiment Analysis, also known as opinion mining is the process of determining the sentiment or emotional tone behind the piece of text.It's goal is to classify the text into pre-defined sentiment categories, typically positive,negative or neutral.The increasing accessibility of online opinions has made this analysis an important tool to be used in personal or business developement.In this report ,we are going to perform sentiment analysis by using ANN ,on Drug reviews from two datasets, webmd and UCI machine learning repository.\n",
    "\n"
   ]
  },
  {
   "cell_type": "code",
   "execution_count": null,
   "id": "aa8e0027-dc79-4de7-8701-bb322b49ef73",
   "metadata": {},
   "outputs": [],
   "source": [
    "#Importing required libraries\n",
    "import pandas as pd\n",
    "import matplotlib.pyplot as plt\n",
    "import nltk"
   ]
  },
  {
   "cell_type": "code",
   "execution_count": 3,
   "id": "cb83630b-7a63-4cdd-beeb-a1efbbfa530a",
   "metadata": {},
   "outputs": [
    {
     "data": {
      "text/html": [
       "<div>\n",
       "<style scoped>\n",
       "    .dataframe tbody tr th:only-of-type {\n",
       "        vertical-align: middle;\n",
       "    }\n",
       "\n",
       "    .dataframe tbody tr th {\n",
       "        vertical-align: top;\n",
       "    }\n",
       "\n",
       "    .dataframe thead th {\n",
       "        text-align: right;\n",
       "    }\n",
       "</style>\n",
       "<table border=\"1\" class=\"dataframe\">\n",
       "  <thead>\n",
       "    <tr style=\"text-align: right;\">\n",
       "      <th></th>\n",
       "      <th>Age</th>\n",
       "      <th>Condition</th>\n",
       "      <th>Date</th>\n",
       "      <th>Drug</th>\n",
       "      <th>DrugId</th>\n",
       "      <th>EaseofUse</th>\n",
       "      <th>Effectiveness</th>\n",
       "      <th>Reviews</th>\n",
       "      <th>Satisfaction</th>\n",
       "      <th>Sex</th>\n",
       "      <th>Sides</th>\n",
       "      <th>UsefulCount</th>\n",
       "    </tr>\n",
       "  </thead>\n",
       "  <tbody>\n",
       "    <tr>\n",
       "      <th>0</th>\n",
       "      <td>75 or over</td>\n",
       "      <td>Stuffy Nose</td>\n",
       "      <td>9/21/2014</td>\n",
       "      <td>25dph-7.5peh</td>\n",
       "      <td>146724</td>\n",
       "      <td>5</td>\n",
       "      <td>5</td>\n",
       "      <td>I'm a retired physician and of all the meds I ...</td>\n",
       "      <td>5</td>\n",
       "      <td>Male</td>\n",
       "      <td>Drowsiness,  dizziness ,  dry mouth /nose/thro...</td>\n",
       "      <td>0</td>\n",
       "    </tr>\n",
       "    <tr>\n",
       "      <th>1</th>\n",
       "      <td>25-34</td>\n",
       "      <td>Cold Symptoms</td>\n",
       "      <td>1/13/2011</td>\n",
       "      <td>25dph-7.5peh</td>\n",
       "      <td>146724</td>\n",
       "      <td>5</td>\n",
       "      <td>5</td>\n",
       "      <td>cleared me right up even with my throat hurtin...</td>\n",
       "      <td>5</td>\n",
       "      <td>Female</td>\n",
       "      <td>Drowsiness,  dizziness ,  dry mouth /nose/thro...</td>\n",
       "      <td>1</td>\n",
       "    </tr>\n",
       "    <tr>\n",
       "      <th>2</th>\n",
       "      <td>65-74</td>\n",
       "      <td>Other</td>\n",
       "      <td>7/16/2012</td>\n",
       "      <td>warfarin (bulk) 100 % powder</td>\n",
       "      <td>144731</td>\n",
       "      <td>2</td>\n",
       "      <td>3</td>\n",
       "      <td>why did my PTINR go from a normal of 2.5 to ov...</td>\n",
       "      <td>3</td>\n",
       "      <td>Female</td>\n",
       "      <td></td>\n",
       "      <td>0</td>\n",
       "    </tr>\n",
       "    <tr>\n",
       "      <th>3</th>\n",
       "      <td>75 or over</td>\n",
       "      <td>Other</td>\n",
       "      <td>9/23/2010</td>\n",
       "      <td>warfarin (bulk) 100 % powder</td>\n",
       "      <td>144731</td>\n",
       "      <td>2</td>\n",
       "      <td>2</td>\n",
       "      <td>FALLING AND DON'T REALISE IT</td>\n",
       "      <td>1</td>\n",
       "      <td>Female</td>\n",
       "      <td></td>\n",
       "      <td>0</td>\n",
       "    </tr>\n",
       "  </tbody>\n",
       "</table>\n",
       "</div>"
      ],
      "text/plain": [
       "          Age      Condition       Date                          Drug  DrugId  \\\n",
       "0  75 or over    Stuffy Nose  9/21/2014                  25dph-7.5peh  146724   \n",
       "1       25-34  Cold Symptoms  1/13/2011                  25dph-7.5peh  146724   \n",
       "2       65-74          Other  7/16/2012  warfarin (bulk) 100 % powder  144731   \n",
       "3  75 or over          Other  9/23/2010  warfarin (bulk) 100 % powder  144731   \n",
       "\n",
       "   EaseofUse  Effectiveness  \\\n",
       "0          5              5   \n",
       "1          5              5   \n",
       "2          2              3   \n",
       "3          2              2   \n",
       "\n",
       "                                             Reviews  Satisfaction     Sex  \\\n",
       "0  I'm a retired physician and of all the meds I ...             5    Male   \n",
       "1  cleared me right up even with my throat hurtin...             5  Female   \n",
       "2  why did my PTINR go from a normal of 2.5 to ov...             3  Female   \n",
       "3                       FALLING AND DON'T REALISE IT             1  Female   \n",
       "\n",
       "                                               Sides  UsefulCount  \n",
       "0  Drowsiness,  dizziness ,  dry mouth /nose/thro...            0  \n",
       "1  Drowsiness,  dizziness ,  dry mouth /nose/thro...            1  \n",
       "2                                                               0  \n",
       "3                                                               0  "
      ]
     },
     "execution_count": 3,
     "metadata": {},
     "output_type": "execute_result"
    }
   ],
   "source": [
    "# loading dataset no: 1\n",
    "\n",
    "df_webmd = pd.read_csv(\"C:/Users/Lithium/OneDrive/Documents/webmd.csv\")\n",
    "df_webmd.head(4)"
   ]
  },
  {
   "cell_type": "markdown",
   "id": "5b9c67a3-b677-4303-8e24-b8de734f57a9",
   "metadata": {},
   "source": [
    "### Pre-Processing of datasets\n",
    "\n",
    "The second dataset from UCI ML is divided in two parts ,so we will merge both parts with first dataset and\n",
    "take out coulmns which are common to both datasets and required for our analysis. We also need to deal with rating column as one dataset contains rating from 1-5 and other contains from 1-10.Finally we will remove the rows with missing values.\n"
   ]
  },
  {
   "cell_type": "code",
   "execution_count": 4,
   "id": "365fa983-9b97-4d25-9b20-2ff24afb4d43",
   "metadata": {},
   "outputs": [
    {
     "data": {
      "text/html": [
       "<div>\n",
       "<style scoped>\n",
       "    .dataframe tbody tr th:only-of-type {\n",
       "        vertical-align: middle;\n",
       "    }\n",
       "\n",
       "    .dataframe tbody tr th {\n",
       "        vertical-align: top;\n",
       "    }\n",
       "\n",
       "    .dataframe thead th {\n",
       "        text-align: right;\n",
       "    }\n",
       "</style>\n",
       "<table border=\"1\" class=\"dataframe\">\n",
       "  <thead>\n",
       "    <tr style=\"text-align: right;\">\n",
       "      <th></th>\n",
       "      <th>uniqueID</th>\n",
       "      <th>drugName</th>\n",
       "      <th>review</th>\n",
       "      <th>rating</th>\n",
       "    </tr>\n",
       "  </thead>\n",
       "  <tbody>\n",
       "    <tr>\n",
       "      <th>0</th>\n",
       "      <td>206461</td>\n",
       "      <td>Valsartan</td>\n",
       "      <td>\"It has no side effect, I take it in combinati...</td>\n",
       "      <td>9</td>\n",
       "    </tr>\n",
       "    <tr>\n",
       "      <th>1</th>\n",
       "      <td>95260</td>\n",
       "      <td>Guanfacine</td>\n",
       "      <td>\"My son is halfway through his fourth week of ...</td>\n",
       "      <td>8</td>\n",
       "    </tr>\n",
       "    <tr>\n",
       "      <th>2</th>\n",
       "      <td>92703</td>\n",
       "      <td>Lybrel</td>\n",
       "      <td>\"I used to take another oral contraceptive, wh...</td>\n",
       "      <td>5</td>\n",
       "    </tr>\n",
       "    <tr>\n",
       "      <th>3</th>\n",
       "      <td>138000</td>\n",
       "      <td>Ortho Evra</td>\n",
       "      <td>\"This is my first time using any form of birth...</td>\n",
       "      <td>8</td>\n",
       "    </tr>\n",
       "    <tr>\n",
       "      <th>4</th>\n",
       "      <td>35696</td>\n",
       "      <td>Buprenorphine / naloxone</td>\n",
       "      <td>\"Suboxone has completely turned my life around...</td>\n",
       "      <td>9</td>\n",
       "    </tr>\n",
       "  </tbody>\n",
       "</table>\n",
       "</div>"
      ],
      "text/plain": [
       "   uniqueID                  drugName  \\\n",
       "0    206461                 Valsartan   \n",
       "1     95260                Guanfacine   \n",
       "2     92703                    Lybrel   \n",
       "3    138000                Ortho Evra   \n",
       "4     35696  Buprenorphine / naloxone   \n",
       "\n",
       "                                              review  rating  \n",
       "0  \"It has no side effect, I take it in combinati...       9  \n",
       "1  \"My son is halfway through his fourth week of ...       8  \n",
       "2  \"I used to take another oral contraceptive, wh...       5  \n",
       "3  \"This is my first time using any form of birth...       8  \n",
       "4  \"Suboxone has completely turned my life around...       9  "
      ]
     },
     "execution_count": 4,
     "metadata": {},
     "output_type": "execute_result"
    }
   ],
   "source": [
    "# loading dataset no: 2(part: 1)\n",
    "df_uci1=pd.read_csv(\"C:/Users/Lithium/OneDrive/Documents/drugsComTrain_raw.csv\")\n",
    "df_uci1=df_uci1[[\"uniqueID\", \"drugName\", \"review\",\"rating\"]]\n",
    "df_uci1.head()"
   ]
  },
  {
   "cell_type": "code",
   "execution_count": 5,
   "id": "feba0203-ee16-47c3-b3dd-11e6c1a44ea4",
   "metadata": {},
   "outputs": [
    {
     "data": {
      "text/html": [
       "<div>\n",
       "<style scoped>\n",
       "    .dataframe tbody tr th:only-of-type {\n",
       "        vertical-align: middle;\n",
       "    }\n",
       "\n",
       "    .dataframe tbody tr th {\n",
       "        vertical-align: top;\n",
       "    }\n",
       "\n",
       "    .dataframe thead th {\n",
       "        text-align: right;\n",
       "    }\n",
       "</style>\n",
       "<table border=\"1\" class=\"dataframe\">\n",
       "  <thead>\n",
       "    <tr style=\"text-align: right;\">\n",
       "      <th></th>\n",
       "      <th>uniqueID</th>\n",
       "      <th>drugName</th>\n",
       "      <th>review</th>\n",
       "      <th>rating</th>\n",
       "    </tr>\n",
       "  </thead>\n",
       "  <tbody>\n",
       "    <tr>\n",
       "      <th>0</th>\n",
       "      <td>163740</td>\n",
       "      <td>Mirtazapine</td>\n",
       "      <td>\"I&amp;#039;ve tried a few antidepressants over th...</td>\n",
       "      <td>10</td>\n",
       "    </tr>\n",
       "    <tr>\n",
       "      <th>1</th>\n",
       "      <td>206473</td>\n",
       "      <td>Mesalamine</td>\n",
       "      <td>\"My son has Crohn&amp;#039;s disease and has done ...</td>\n",
       "      <td>8</td>\n",
       "    </tr>\n",
       "    <tr>\n",
       "      <th>2</th>\n",
       "      <td>159672</td>\n",
       "      <td>Bactrim</td>\n",
       "      <td>\"Quick reduction of symptoms\"</td>\n",
       "      <td>9</td>\n",
       "    </tr>\n",
       "    <tr>\n",
       "      <th>3</th>\n",
       "      <td>39293</td>\n",
       "      <td>Contrave</td>\n",
       "      <td>\"Contrave combines drugs that were used for al...</td>\n",
       "      <td>9</td>\n",
       "    </tr>\n",
       "    <tr>\n",
       "      <th>4</th>\n",
       "      <td>97768</td>\n",
       "      <td>Cyclafem 1 / 35</td>\n",
       "      <td>\"I have been on this birth control for one cyc...</td>\n",
       "      <td>9</td>\n",
       "    </tr>\n",
       "  </tbody>\n",
       "</table>\n",
       "</div>"
      ],
      "text/plain": [
       "   uniqueID         drugName  \\\n",
       "0    163740      Mirtazapine   \n",
       "1    206473       Mesalamine   \n",
       "2    159672          Bactrim   \n",
       "3     39293         Contrave   \n",
       "4     97768  Cyclafem 1 / 35   \n",
       "\n",
       "                                              review  rating  \n",
       "0  \"I&#039;ve tried a few antidepressants over th...      10  \n",
       "1  \"My son has Crohn&#039;s disease and has done ...       8  \n",
       "2                      \"Quick reduction of symptoms\"       9  \n",
       "3  \"Contrave combines drugs that were used for al...       9  \n",
       "4  \"I have been on this birth control for one cyc...       9  "
      ]
     },
     "execution_count": 5,
     "metadata": {},
     "output_type": "execute_result"
    }
   ],
   "source": [
    "# loading dataset no: 2(part: 2)\n",
    "df_uci2=pd.read_csv(\"C:/Users/Lithium/OneDrive/Documents/drugsComTest_raw.csv\")\n",
    "df_uci2=df_uci2[[\"uniqueID\", \"drugName\", \"review\",\"rating\"]] \n",
    "df_uci2.head()\n"
   ]
  },
  {
   "cell_type": "code",
   "execution_count": 6,
   "id": "3f2032b8-b3de-40ad-a7fb-dccadb94a5a0",
   "metadata": {},
   "outputs": [
    {
     "data": {
      "text/html": [
       "<div>\n",
       "<style scoped>\n",
       "    .dataframe tbody tr th:only-of-type {\n",
       "        vertical-align: middle;\n",
       "    }\n",
       "\n",
       "    .dataframe tbody tr th {\n",
       "        vertical-align: top;\n",
       "    }\n",
       "\n",
       "    .dataframe thead th {\n",
       "        text-align: right;\n",
       "    }\n",
       "</style>\n",
       "<table border=\"1\" class=\"dataframe\">\n",
       "  <thead>\n",
       "    <tr style=\"text-align: right;\">\n",
       "      <th></th>\n",
       "      <th>uniqueID</th>\n",
       "      <th>drugName</th>\n",
       "      <th>review</th>\n",
       "      <th>rating</th>\n",
       "    </tr>\n",
       "  </thead>\n",
       "  <tbody>\n",
       "    <tr>\n",
       "      <th>0</th>\n",
       "      <td>146724</td>\n",
       "      <td>25dph-7.5peh</td>\n",
       "      <td>I'm a retired physician and of all the meds I ...</td>\n",
       "      <td>10</td>\n",
       "    </tr>\n",
       "    <tr>\n",
       "      <th>1</th>\n",
       "      <td>146724</td>\n",
       "      <td>25dph-7.5peh</td>\n",
       "      <td>cleared me right up even with my throat hurtin...</td>\n",
       "      <td>10</td>\n",
       "    </tr>\n",
       "    <tr>\n",
       "      <th>2</th>\n",
       "      <td>144731</td>\n",
       "      <td>warfarin (bulk) 100 % powder</td>\n",
       "      <td>why did my PTINR go from a normal of 2.5 to ov...</td>\n",
       "      <td>6</td>\n",
       "    </tr>\n",
       "    <tr>\n",
       "      <th>3</th>\n",
       "      <td>144731</td>\n",
       "      <td>warfarin (bulk) 100 % powder</td>\n",
       "      <td>FALLING AND DON'T REALISE IT</td>\n",
       "      <td>2</td>\n",
       "    </tr>\n",
       "    <tr>\n",
       "      <th>4</th>\n",
       "      <td>144731</td>\n",
       "      <td>warfarin (bulk) 100 % powder</td>\n",
       "      <td>My grandfather was prescribed this medication ...</td>\n",
       "      <td>2</td>\n",
       "    </tr>\n",
       "  </tbody>\n",
       "</table>\n",
       "</div>"
      ],
      "text/plain": [
       "   uniqueID                      drugName  \\\n",
       "0    146724                  25dph-7.5peh   \n",
       "1    146724                  25dph-7.5peh   \n",
       "2    144731  warfarin (bulk) 100 % powder   \n",
       "3    144731  warfarin (bulk) 100 % powder   \n",
       "4    144731  warfarin (bulk) 100 % powder   \n",
       "\n",
       "                                              review  rating  \n",
       "0  I'm a retired physician and of all the meds I ...      10  \n",
       "1  cleared me right up even with my throat hurtin...      10  \n",
       "2  why did my PTINR go from a normal of 2.5 to ov...       6  \n",
       "3                       FALLING AND DON'T REALISE IT       2  \n",
       "4  My grandfather was prescribed this medication ...       2  "
      ]
     },
     "execution_count": 6,
     "metadata": {},
     "output_type": "execute_result"
    }
   ],
   "source": [
    "#renaming columns in first dataframe to match with second\n",
    "df_webmd = df_webmd.rename(columns={'Drug': 'drugName', 'DrugId': 'uniqueID', 'Reviews':'review',\n",
    "                        'Satisfaction':'rating'})\n",
    "df_webmd = df_webmd[[\"uniqueID\", \"drugName\", \"review\",\"rating\"]]\n",
    "df_webmd['rating'] = df_webmd['rating'].apply(lambda x: x*2)\n",
    "df_webmd.head()\n",
    "\n"
   ]
  },
  {
   "cell_type": "code",
   "execution_count": 7,
   "id": "f76a50d1-17d3-4ce6-8f44-ba2243b865b7",
   "metadata": {},
   "outputs": [
    {
     "data": {
      "text/plain": [
       "(577832, 4)"
      ]
     },
     "execution_count": 7,
     "metadata": {},
     "output_type": "execute_result"
    }
   ],
   "source": [
    "#combining datasets\n",
    "\n",
    "df=pd.concat([df_uci1,df_uci2,df_webmd])\n",
    "\n",
    "df.dropna(inplace=True) # dropping rows with NA\n",
    "df.shape\n"
   ]
  },
  {
   "cell_type": "markdown",
   "id": "c76375d6-a95c-4079-a3b7-2613358cd2fd",
   "metadata": {},
   "source": [
    "\n",
    "So our final dataset 'df' is ready for analysis. Its is a big dataset with over 5 hundred thousand rows(reviews) .However with wider range of samples,bias will reduce our ANN model can learn more diverse patterns and better capture the nuances of language,leading to improved accuracy. \n",
    "\n",
    "lets begin by finding the unique number of drugs contained in the dataset and check the number of reviews for each drug.\n"
   ]
  },
  {
   "cell_type": "code",
   "execution_count": 8,
   "id": "413f2796-b7f8-4c94-8ea0-4667f32fec7d",
   "metadata": {},
   "outputs": [
    {
     "name": "stdout",
     "output_type": "stream",
     "text": [
      "Number of Drugs:  10762\n"
     ]
    }
   ],
   "source": [
    "# unique drug name in the dataset\n",
    "drug_name = len(df[\"drugName\"].unique())\n",
    "print(\"Number of Drugs: \", drug_name)"
   ]
  },
  {
   "cell_type": "code",
   "execution_count": 9,
   "id": "683f1b68-5c18-4635-bf9c-ec1d2e9285cb",
   "metadata": {},
   "outputs": [
    {
     "data": {
      "image/png": "[encoded data removed]",
      "text/plain": [
       "<Figure size 432x288 with 1 Axes>"
      ]
     },
     "metadata": {
      "needs_background": "light"
     },
     "output_type": "display_data"
    }
   ],
   "source": [
    "# Getting the review count for each product\n",
    "X = df[\"drugName\"].value_counts()\n",
    "\n",
    "# Plotting the histogram \n",
    "figure=plt.figure(1)\n",
    "plt.hist(X, bins=120, log=True)\n",
    "plt.xlabel('Reviews')\n",
    "plt.ylabel('Products')\n",
    "plt.show()"
   ]
  },
  {
   "cell_type": "markdown",
   "id": "e7d0ceec-bbd4-424f-8be3-84fc72f2bdf9",
   "metadata": {},
   "source": [
    "\n",
    "As we can see above, most of the products have reviews in the first bin and displaying heterogeneous \n",
    "distribution.Next we are going to explore the rating column,if any bias towards positive or negative\n",
    "sentiment is present.For accurate analysis and prediction ,we need to have a balanced dataset.\n"
   ]
  },
  {
   "cell_type": "code",
   "execution_count": 11,
   "id": "2c80e5f6-f337-4f52-bc0e-fba7e3b2b6f9",
   "metadata": {},
   "outputs": [
    {
     "data": {
      "text/plain": [
       "10    179542\n",
       "2     110162\n",
       "8      88195\n",
       "6      60308\n",
       "4      42008\n",
       "9      36708\n",
       "1      28918\n",
       "7      12547\n",
       "5      10723\n",
       "3       8718\n",
       "Name: rating, dtype: int64"
      ]
     },
     "execution_count": 11,
     "metadata": {},
     "output_type": "execute_result"
    }
   ],
   "source": [
    "# Counting the frequency of each value in satisfaction column\n",
    "df[\"rating\"].value_counts()\n",
    "\n",
    "#there are some outliers like rating is 12, and 20 , total 3 rows like that so removing them\n",
    "df.drop(df[(df['rating'] ==12) | (df['rating'] == 20)].index, inplace=True)\n",
    "df[\"rating\"].value_counts()"
   ]
  },
  {
   "cell_type": "code",
   "execution_count": 12,
   "id": "f07e3599-ea7e-4bdd-bf97-45d39a21aea5",
   "metadata": {},
   "outputs": [
    {
     "data": {
      "text/plain": [
       "10    0.310718\n",
       "2     0.190648\n",
       "8     0.152632\n",
       "6     0.104370\n",
       "4     0.072700\n",
       "9     0.063527\n",
       "1     0.050046\n",
       "7     0.021714\n",
       "5     0.018557\n",
       "3     0.015088\n",
       "Name: rating, dtype: float64"
      ]
     },
     "execution_count": 12,
     "metadata": {},
     "output_type": "execute_result"
    }
   ],
   "source": [
    "# Counting the frequency of each value,provides relative frequencies instead of the absolute.\n",
    "df[\"rating\"].value_counts(normalize=True)\n"
   ]
  },
  {
   "cell_type": "markdown",
   "id": "5ab00535-a7dd-4167-b9d5-23cf906a11e2",
   "metadata": {},
   "source": [
    "\n",
    "Lets put the review as positive or negative, given the rating distribution is unbalanced.Rating with 8 or \n",
    "above value will be considered as positive and 7 and below will be negative.We will create a new column \n",
    "`sentiment` in the dataset which will return 1 or 0 depending upon the given condition in the code.\n"
   ]
  },
  {
   "cell_type": "code",
   "execution_count": 13,
   "id": "524ea646-ebc5-4a05-b1aa-f17520bf9486",
   "metadata": {},
   "outputs": [
    {
     "data": {
      "image/png": "[encoded data removed]",
      "text/plain": [
       "<Figure size 432x288 with 1 Axes>"
      ]
     },
     "metadata": {
      "needs_background": "light"
     },
     "output_type": "display_data"
    },
    {
     "data": {
      "text/html": [
       "<div>\n",
       "<style scoped>\n",
       "    .dataframe tbody tr th:only-of-type {\n",
       "        vertical-align: middle;\n",
       "    }\n",
       "\n",
       "    .dataframe tbody tr th {\n",
       "        vertical-align: top;\n",
       "    }\n",
       "\n",
       "    .dataframe thead th {\n",
       "        text-align: right;\n",
       "    }\n",
       "</style>\n",
       "<table border=\"1\" class=\"dataframe\">\n",
       "  <thead>\n",
       "    <tr style=\"text-align: right;\">\n",
       "      <th></th>\n",
       "      <th>uniqueID</th>\n",
       "      <th>drugName</th>\n",
       "      <th>review</th>\n",
       "      <th>rating</th>\n",
       "      <th>sentiment</th>\n",
       "    </tr>\n",
       "  </thead>\n",
       "  <tbody>\n",
       "    <tr>\n",
       "      <th>0</th>\n",
       "      <td>206461</td>\n",
       "      <td>Valsartan</td>\n",
       "      <td>\"It has no side effect, I take it in combinati...</td>\n",
       "      <td>9</td>\n",
       "      <td>1</td>\n",
       "    </tr>\n",
       "    <tr>\n",
       "      <th>1</th>\n",
       "      <td>95260</td>\n",
       "      <td>Guanfacine</td>\n",
       "      <td>\"My son is halfway through his fourth week of ...</td>\n",
       "      <td>8</td>\n",
       "      <td>1</td>\n",
       "    </tr>\n",
       "    <tr>\n",
       "      <th>2</th>\n",
       "      <td>92703</td>\n",
       "      <td>Lybrel</td>\n",
       "      <td>\"I used to take another oral contraceptive, wh...</td>\n",
       "      <td>5</td>\n",
       "      <td>0</td>\n",
       "    </tr>\n",
       "    <tr>\n",
       "      <th>3</th>\n",
       "      <td>138000</td>\n",
       "      <td>Ortho Evra</td>\n",
       "      <td>\"This is my first time using any form of birth...</td>\n",
       "      <td>8</td>\n",
       "      <td>1</td>\n",
       "    </tr>\n",
       "    <tr>\n",
       "      <th>4</th>\n",
       "      <td>35696</td>\n",
       "      <td>Buprenorphine / naloxone</td>\n",
       "      <td>\"Suboxone has completely turned my life around...</td>\n",
       "      <td>9</td>\n",
       "      <td>1</td>\n",
       "    </tr>\n",
       "  </tbody>\n",
       "</table>\n",
       "</div>"
      ],
      "text/plain": [
       "   uniqueID                  drugName  \\\n",
       "0    206461                 Valsartan   \n",
       "1     95260                Guanfacine   \n",
       "2     92703                    Lybrel   \n",
       "3    138000                Ortho Evra   \n",
       "4     35696  Buprenorphine / naloxone   \n",
       "\n",
       "                                              review  rating  sentiment  \n",
       "0  \"It has no side effect, I take it in combinati...       9          1  \n",
       "1  \"My son is halfway through his fourth week of ...       8          1  \n",
       "2  \"I used to take another oral contraceptive, wh...       5          0  \n",
       "3  \"This is my first time using any form of birth...       8          1  \n",
       "4  \"Suboxone has completely turned my life around...       9          1  "
      ]
     },
     "execution_count": 13,
     "metadata": {},
     "output_type": "execute_result"
    }
   ],
   "source": [
    "\n",
    "# Associating the sentiment based on the satisfaction rating and storing in a new column\n",
    "#poitive sentiment =1 and negative sentiment =0\n",
    "df[\"sentiment\"] = [int(x >=8 ) for x in df[\"rating\"].to_list()]\n",
    "# Calculating the percentages of each sentiment \n",
    "pos = len(df[df[\"sentiment\"]==1])\n",
    "neg = len(df[df[\"sentiment\"]==0])\n",
    "tot = len(df)\n",
    "\n",
    "# Calculating the percentages of each sentiment\n",
    "pos_percentage = round(pos/tot*100, 2)\n",
    "neg_percentage = round(neg/tot*100, 2)\n",
    "\n",
    "# Creatinging the bar graph\n",
    "sentiments = ['Positive', 'Negative']\n",
    "percentages = [pos_percentage, neg_percentage]\n",
    "colors = ['mediumseagreen', 'tomato']\n",
    "plt.bar(sentiments, percentages, color=colors)\n",
    "\n",
    "# Adding labels and title\n",
    "plt.xlabel('Sentiment')\n",
    "plt.ylabel('Percentage')\n",
    "plt.title('Sentiment Analysis of Reviews')\n",
    "\n",
    "# Adding percentages above each bar\n",
    "for i, percentage in enumerate(percentages):\n",
    "    plt.text(i, percentage+1, str(percentage)+'%')\n",
    "\n",
    "# Displaying the bar graph\n",
    "plt.show()\n",
    "df.head()\n",
    "\n"
   ]
  },
  {
   "cell_type": "markdown",
   "id": "6df5f5ea-8b5c-4334-8465-0beacf067e38",
   "metadata": {},
   "source": [
    "\n",
    "Since now , we have obtained relatively balanced dataset ,we can proceed with further analysis.For that lets take a drug (lotronex) and print its review and rating.\n"
   ]
  },
  {
   "cell_type": "code",
   "execution_count": 14,
   "id": "a56f673f-3681-4cef-9065-3b30e10a5b0c",
   "metadata": {},
   "outputs": [
    {
     "name": "stdout",
     "output_type": "stream",
     "text": [
      "Review #1: Ever since I had gallbladder removed I have had IBSD severely.  Lotronox has been a life saver.  However, now since taking it for over 10 years I have developed hive and rashes when taking it.  Hives are really bad.  So I had to stop.  Nothing else works as well as lotronex.  I wish I could go back to it but the hives has gotten so bad.  No other side effects for the 10+ years I was on it.  Not sure if anyone else has had this experience, but thought I should let you know. \n",
      "Rating #1: 10\n",
      "----------\n",
      "Review #2: It took awhile to get the right dose but after a few months I seem to be great on one half of a .05 mg tablet every other day. I try and make good food choices and drink plenty of water. I write down when I take the medicine and when I have a BM. This way I can back off if I need to to make sure I'm not getting C. (haven't had to do that since the first few weeks). Keep track of how much you take when you take it and your BM's. You think you'll remember but you won't. You can also just note it in your phone. So far so good I'm really on a schedule now. I actually ran errands after eating the other day I would NEVER have been able to eat and then go somewhere. I still wouldn't eat before my kids ballgames or going out but I need to try that soon as I haven't had D in months after I started this medicine, but when you've dealt with IBS for years its hard to relax and not worry in certain situations!  It is now available in generic so I pay $15 a month with insurance. Don't know what I would do if they don't cover it. Can't imagine life without this now. If you are worried then read the medical reviews (studies/trials) since it was rereleased there have been no deaths or horrible incidents. Go slow and don't get discouraged it takes some time to adjust and see how much you need. I actually upped my dose for a week at the start but then now I'm at just a half every other day for months and I am on a good schedule with normal BM's. No more racing home to get to the bathroom or stopping on the way because I can't make it. \n",
      "Rating #2: 10\n",
      "----------\n",
      "Review #3: I suffered with IBS D for years & finally was prescribed Lotronex.  I was at the point where I couldn't leave my home. This has been a real life saver.\n",
      "Rating #3: 10\n"
     ]
    }
   ],
   "source": [
    "#Let's now have a look at the text pieces to see how we can process them\n",
    "#As an example, we can take a specific product and print its review texts.\n",
    "\n",
    "drug_name = 'lotronex'\n",
    "# Create a new data frame with only that product\n",
    "dfcalendar = df[df[\"drugName\"]==drug_name].copy()\n",
    "# Print the first three reviews\n",
    "print(\"Review #1: \" + dfcalendar.iloc[0][\"review\"])\n",
    "print(\"Rating #1: \" + str(dfcalendar.iloc[0][\"rating\"]))\n",
    "print(\"----------\")\n",
    "print(\"Review #2: \" + dfcalendar.iloc[1][\"review\"])\n",
    "print(\"Rating #2: \" + str(dfcalendar.iloc[1][\"rating\"]))\n",
    "print(\"----------\")\n",
    "print(\"Review #3: \" + dfcalendar.iloc[2][\"review\"])\n",
    "print(\"Rating #3: \" + str(dfcalendar.iloc[2][\"rating\"]))"
   ]
  },
  {
   "cell_type": "markdown",
   "id": "8c59e3ad-ac57-4d9d-a1ed-cf9e842a6baa",
   "metadata": {},
   "source": [
    "\n",
    "We have observed different type of text, style, length and words, so in the next section,first we are\n",
    "going to remove the stopwords which are very commom ,has no significance and contribution in our analysis.\n",
    "Then we will see words that are common in the reviews with their frequency and importance in our text using Worldcloud.\n"
   ]
  },
  {
   "cell_type": "code",
   "execution_count": 16,
   "id": "dd6aed15-55f0-4a99-ba9e-c935f2207e29",
   "metadata": {},
   "outputs": [
    {
     "name": "stderr",
     "output_type": "stream",
     "text": [
      "[nltk_data] Downloading package stopwords to\n",
      "[nltk_data]     C:\\Users\\Lithium\\AppData\\Roaming\\nltk_data...\n",
      "[nltk_data]   Package stopwords is already up-to-date!\n"
     ]
    },
    {
     "data": {
      "text/html": [
       "<div>\n",
       "<style scoped>\n",
       "    .dataframe tbody tr th:only-of-type {\n",
       "        vertical-align: middle;\n",
       "    }\n",
       "\n",
       "    .dataframe tbody tr th {\n",
       "        vertical-align: top;\n",
       "    }\n",
       "\n",
       "    .dataframe thead th {\n",
       "        text-align: right;\n",
       "    }\n",
       "</style>\n",
       "<table border=\"1\" class=\"dataframe\">\n",
       "  <thead>\n",
       "    <tr style=\"text-align: right;\">\n",
       "      <th></th>\n",
       "      <th>uniqueID</th>\n",
       "      <th>drugName</th>\n",
       "      <th>review</th>\n",
       "      <th>rating</th>\n",
       "      <th>sentiment</th>\n",
       "    </tr>\n",
       "  </thead>\n",
       "  <tbody>\n",
       "    <tr>\n",
       "      <th>0</th>\n",
       "      <td>206461</td>\n",
       "      <td>Valsartan</td>\n",
       "      <td>\"It side effect, take combination Bystolic 5 M...</td>\n",
       "      <td>9</td>\n",
       "      <td>1</td>\n",
       "    </tr>\n",
       "    <tr>\n",
       "      <th>1</th>\n",
       "      <td>95260</td>\n",
       "      <td>Guanfacine</td>\n",
       "      <td>\"My son halfway fourth week Intuniv. became co...</td>\n",
       "      <td>8</td>\n",
       "      <td>1</td>\n",
       "    </tr>\n",
       "    <tr>\n",
       "      <th>2</th>\n",
       "      <td>92703</td>\n",
       "      <td>Lybrel</td>\n",
       "      <td>\"I used take another oral contraceptive, 21 pi...</td>\n",
       "      <td>5</td>\n",
       "      <td>0</td>\n",
       "    </tr>\n",
       "    <tr>\n",
       "      <th>3</th>\n",
       "      <td>138000</td>\n",
       "      <td>Ortho Evra</td>\n",
       "      <td>\"This first time using form birth control. I&amp;#...</td>\n",
       "      <td>8</td>\n",
       "      <td>1</td>\n",
       "    </tr>\n",
       "    <tr>\n",
       "      <th>4</th>\n",
       "      <td>35696</td>\n",
       "      <td>Buprenorphine / naloxone</td>\n",
       "      <td>\"Suboxone completely turned life around. feel ...</td>\n",
       "      <td>9</td>\n",
       "      <td>1</td>\n",
       "    </tr>\n",
       "  </tbody>\n",
       "</table>\n",
       "</div>"
      ],
      "text/plain": [
       "   uniqueID                  drugName  \\\n",
       "0    206461                 Valsartan   \n",
       "1     95260                Guanfacine   \n",
       "2     92703                    Lybrel   \n",
       "3    138000                Ortho Evra   \n",
       "4     35696  Buprenorphine / naloxone   \n",
       "\n",
       "                                              review  rating  sentiment  \n",
       "0  \"It side effect, take combination Bystolic 5 M...       9          1  \n",
       "1  \"My son halfway fourth week Intuniv. became co...       8          1  \n",
       "2  \"I used take another oral contraceptive, 21 pi...       5          0  \n",
       "3  \"This first time using form birth control. I&#...       8          1  \n",
       "4  \"Suboxone completely turned life around. feel ...       9          1  "
      ]
     },
     "execution_count": 16,
     "metadata": {},
     "output_type": "execute_result"
    }
   ],
   "source": [
    "\n",
    "from nltk.corpus import stopwords # removing common stopwords \n",
    "nltk.download('stopwords')\n",
    "\n",
    "stop_words = set(stopwords.words('english'))\n",
    "\n",
    "import numpy as np\n",
    "\n",
    "def remove_stopwords(text):\n",
    "    if isinstance(text, str):  # Checking if the value is a string\n",
    "        # Tokenize the text into individual words\n",
    "        words = text.split()\n",
    "        \n",
    "        # Removing stopwords from the tokenized words\n",
    "        filtered_words = [word for word in words if word.lower() not in stop_words]\n",
    "        \n",
    "        # Reconstructing the filtered words into a single string\n",
    "        filtered_text = ' '.join(filtered_words)\n",
    "        \n",
    "        return filtered_text\n",
    "    else:\n",
    "        return np.nan  # Return NaN for non-string values\n",
    "\n",
    "df['review'] = df['review'].apply(remove_stopwords)\n",
    "df.head()\n",
    "\n"
   ]
  },
  {
   "cell_type": "code",
   "execution_count": 17,
   "id": "899dcac1-78bd-4ec2-84c1-1f0c7d87ae2e",
   "metadata": {},
   "outputs": [],
   "source": [
    "#import matplotlib.pyplot as plt\n",
    "from wordcloud import WordCloud\n",
    "\n",
    "sample_size = 100000  # taking random 100000 rows \n",
    "sampled_reviews = df.sample(n=sample_size, random_state=42)['review']  # Perform random sampling on the DataFrame\n",
    "\n",
    "\n",
    "# Concatenate all the reviews into a single string\n",
    "text = \" \".join(sampled_reviews .astype(str).tolist())\n"
   ]
  },
  {
   "cell_type": "code",
   "execution_count": 18,
   "id": "26c0ce09-66da-4cbd-b8f4-ff807239a8e7",
   "metadata": {},
   "outputs": [],
   "source": [
    "# Create a WordCloud object\n",
    "wordcloud = WordCloud().generate(text)\n"
   ]
  },
  {
   "cell_type": "code",
   "execution_count": 19,
   "id": "ca37e048-da95-45d1-b7f0-67263a652c49",
   "metadata": {},
   "outputs": [
    {
     "data": {
      "image/png": "[encoded data removed]",
      "text/plain": [
       "<Figure size 432x288 with 1 Axes>"
      ]
     },
     "metadata": {
      "needs_background": "light"
     },
     "output_type": "display_data"
    }
   ],
   "source": [
    "plt.imshow(wordcloud, interpolation='bilinear')\n",
    "plt.axis(\"off\")\n",
    "plt.show()\n"
   ]
  },
  {
   "cell_type": "markdown",
   "id": "94be59c1-48e2-4aa7-a71a-482cd465a3bf",
   "metadata": {},
   "source": [
    "\n",
    "The dimension of our dataset is quite large so we have taken random 100000 rows to analyse the words\n",
    "in the text so that we can build a simple classifier.We are going to use one-hot encoding in which our \n",
    "category of words(defined below in dictionary) will be represented by binary vector of zeros and a single \n",
    "one and hence the appearance of these words in the review will be checked.\n"
   ]
  },
  {
   "cell_type": "code",
   "execution_count": 20,
   "id": "9dfa9fe8-59a8-4122-895b-d2ed4c792af6",
   "metadata": {},
   "outputs": [
    {
     "data": {
      "text/html": [
       "<div>\n",
       "<style scoped>\n",
       "    .dataframe tbody tr th:only-of-type {\n",
       "        vertical-align: middle;\n",
       "    }\n",
       "\n",
       "    .dataframe tbody tr th {\n",
       "        vertical-align: top;\n",
       "    }\n",
       "\n",
       "    .dataframe thead th {\n",
       "        text-align: right;\n",
       "    }\n",
       "</style>\n",
       "<table border=\"1\" class=\"dataframe\">\n",
       "  <thead>\n",
       "    <tr style=\"text-align: right;\">\n",
       "      <th></th>\n",
       "      <th>uniqueID</th>\n",
       "      <th>drugName</th>\n",
       "      <th>review</th>\n",
       "      <th>rating</th>\n",
       "      <th>sentiment</th>\n",
       "      <th>sequences</th>\n",
       "      <th>good</th>\n",
       "      <th>wonderful</th>\n",
       "      <th>great</th>\n",
       "      <th>stopped</th>\n",
       "      <th>never</th>\n",
       "      <th>discontinued</th>\n",
       "    </tr>\n",
       "  </thead>\n",
       "  <tbody>\n",
       "    <tr>\n",
       "      <th>0</th>\n",
       "      <td>206461</td>\n",
       "      <td>Valsartan</td>\n",
       "      <td>\"It side effect, take combination Bystolic 5 M...</td>\n",
       "      <td>9</td>\n",
       "      <td>1</td>\n",
       "      <td>[]</td>\n",
       "      <td>0</td>\n",
       "      <td>0</td>\n",
       "      <td>0</td>\n",
       "      <td>0</td>\n",
       "      <td>0</td>\n",
       "      <td>0</td>\n",
       "    </tr>\n",
       "    <tr>\n",
       "      <th>1</th>\n",
       "      <td>95260</td>\n",
       "      <td>Guanfacine</td>\n",
       "      <td>\"My son halfway fourth week Intuniv. became co...</td>\n",
       "      <td>8</td>\n",
       "      <td>1</td>\n",
       "      <td>[1]</td>\n",
       "      <td>1</td>\n",
       "      <td>0</td>\n",
       "      <td>0</td>\n",
       "      <td>0</td>\n",
       "      <td>0</td>\n",
       "      <td>0</td>\n",
       "    </tr>\n",
       "    <tr>\n",
       "      <th>2</th>\n",
       "      <td>92703</td>\n",
       "      <td>Lybrel</td>\n",
       "      <td>\"I used take another oral contraceptive, 21 pi...</td>\n",
       "      <td>5</td>\n",
       "      <td>0</td>\n",
       "      <td>[]</td>\n",
       "      <td>0</td>\n",
       "      <td>0</td>\n",
       "      <td>0</td>\n",
       "      <td>0</td>\n",
       "      <td>0</td>\n",
       "      <td>0</td>\n",
       "    </tr>\n",
       "    <tr>\n",
       "      <th>3</th>\n",
       "      <td>138000</td>\n",
       "      <td>Ortho Evra</td>\n",
       "      <td>\"This first time using form birth control. I&amp;#...</td>\n",
       "      <td>8</td>\n",
       "      <td>1</td>\n",
       "      <td>[5]</td>\n",
       "      <td>0</td>\n",
       "      <td>0</td>\n",
       "      <td>0</td>\n",
       "      <td>0</td>\n",
       "      <td>1</td>\n",
       "      <td>0</td>\n",
       "    </tr>\n",
       "    <tr>\n",
       "      <th>4</th>\n",
       "      <td>35696</td>\n",
       "      <td>Buprenorphine / naloxone</td>\n",
       "      <td>\"Suboxone completely turned life around. feel ...</td>\n",
       "      <td>9</td>\n",
       "      <td>1</td>\n",
       "      <td>[1, 3]</td>\n",
       "      <td>1</td>\n",
       "      <td>0</td>\n",
       "      <td>1</td>\n",
       "      <td>0</td>\n",
       "      <td>0</td>\n",
       "      <td>0</td>\n",
       "    </tr>\n",
       "  </tbody>\n",
       "</table>\n",
       "</div>"
      ],
      "text/plain": [
       "   uniqueID                  drugName  \\\n",
       "0    206461                 Valsartan   \n",
       "1     95260                Guanfacine   \n",
       "2     92703                    Lybrel   \n",
       "3    138000                Ortho Evra   \n",
       "4     35696  Buprenorphine / naloxone   \n",
       "\n",
       "                                              review  rating  sentiment  \\\n",
       "0  \"It side effect, take combination Bystolic 5 M...       9          1   \n",
       "1  \"My son halfway fourth week Intuniv. became co...       8          1   \n",
       "2  \"I used take another oral contraceptive, 21 pi...       5          0   \n",
       "3  \"This first time using form birth control. I&#...       8          1   \n",
       "4  \"Suboxone completely turned life around. feel ...       9          1   \n",
       "\n",
       "  sequences  good  wonderful  great  stopped  never  discontinued  \n",
       "0        []     0          0      0        0      0             0  \n",
       "1       [1]     1          0      0        0      0             0  \n",
       "2        []     0          0      0        0      0             0  \n",
       "3       [5]     0          0      0        0      1             0  \n",
       "4    [1, 3]     1          0      1        0      0             0  "
      ]
     },
     "execution_count": 20,
     "metadata": {},
     "output_type": "execute_result"
    }
   ],
   "source": [
    "#Building a simple classifier\n",
    "\n",
    "from tensorflow.keras.preprocessing.text import Tokenizer\n",
    "dfnew = df.copy(deep=True)\n",
    "texts = dfcalendar[\"review\"].to_list()\n",
    "\n",
    "# Define our tokenizer\n",
    "token = Tokenizer(filters='!\"#$%&()*+,-./:;<=>?@[\\\\]^_`{|}~\\t\\n', lower=True, split=' ')\n",
    "\n",
    "# Define our dictionary\n",
    "token.word_index = {\"good\":1, \"wonderful\":2, \"great\":3, \"stopped\":4, \"never\":5, \"discontinued\":6}\n",
    "# apply token to texts\n",
    "sequences = token.texts_to_sequences(dfnew[\"review\"].astype(str))\n",
    "\n",
    "# Store the sequences of each review in a new column\n",
    "dfnew['sequences'] = sequences\n",
    "# Iterate over elements of dictionary token.word_index\n",
    "for key,val in token.word_index.items():\n",
    "    # Create a new column based on that, if val is in the sequence add 1, 0 otherwise\n",
    "    dfnew[key] = [int(val in x) for x in dfnew[\"sequences\"].to_list()]\n",
    "dfnew.head()"
   ]
  },
  {
   "cell_type": "code",
   "execution_count": 21,
   "id": "7f2117ed-ccc5-43d6-853a-0b8fa8398d24",
   "metadata": {},
   "outputs": [
    {
     "name": "stdout",
     "output_type": "stream",
     "text": [
      "good appears in 50555 Reviews ( 8.75 %)\n",
      "wonderful appears in 6658 Reviews ( 1.15 %)\n",
      "great appears in 45935 Reviews ( 7.95 %)\n",
      "stopped appears in 31844 Reviews ( 5.51 %)\n",
      "never appears in 51243 Reviews ( 8.87 %)\n",
      "discontinued appears in 2240 Reviews ( 0.39 %)\n"
     ]
    }
   ],
   "source": [
    "for key in token.word_index.keys():\n",
    "    # Calculate in how many reviews the word appears.\n",
    "    num = dfnew[key].sum()\n",
    "    # Calculate the percentage\n",
    "    pctg = round(num/len(dfnew[key])*100,2)\n",
    "    print(key,'appears in', num, 'Reviews (', pctg, '%)')"
   ]
  },
  {
   "cell_type": "markdown",
   "id": "f87379b9-a15c-4e93-8525-623e22318c77",
   "metadata": {},
   "source": [
    "\n",
    "Above is the distribution of words in text. However this cannot give us a fair idea about positive and negative sentimnet.For example,if a review is `i dont feel good` ,here reviewer is not happy with the drug but because tokeniser splits the words of review so it might mislead us for a positive sentiment though it is clearly negative.So we need machine learning algorithm to predict the actual emotion.For that\n",
    "we are going to split the dataset in two parts: Training and testing in the ratio 80%-20% respectively.\n"
   ]
  },
  {
   "cell_type": "code",
   "execution_count": 22,
   "id": "5764df2b-98da-471e-b7c1-4f9b4f5216f7",
   "metadata": {},
   "outputs": [
    {
     "name": "stdout",
     "output_type": "stream",
     "text": [
      "X_train:\n",
      "[[0 0 0 0 0 0]\n",
      " [0 0 0 0 0 0]\n",
      " [0 0 1 0 0 0]\n",
      " ...\n",
      " [1 0 0 0 0 0]\n",
      " [1 0 0 0 0 0]\n",
      " [1 0 0 0 0 0]]\n",
      "y_train:\n",
      "[0 1 1 ... 1 1 0]\n"
     ]
    }
   ],
   "source": [
    "from sklearn.model_selection import train_test_split\n",
    "\n",
    "X = dfnew[list(token.word_index.keys())].values\n",
    "y = dfnew['sentiment'].values\n",
    "\n",
    "X_train, X_test, y_train, y_test = train_test_split(X, y, test_size=0.2, random_state=1000)\n",
    "print(\"X_train:\")\n",
    "print(X_train)\n",
    "print(\"y_train:\")\n",
    "print(y_train)"
   ]
  },
  {
   "cell_type": "markdown",
   "id": "aa5f7458-7cb0-4675-833b-8edc2f98e9f8",
   "metadata": {},
   "source": [
    "\n",
    "Now, lets build a classifier based on ANN using keras library,which consists of three main steps:\n",
    "\n",
    "**a)Defining a model**: In this, architecture of the model,number and types of layers, activation function\n",
    "  for neurons in specified.\n",
    "  \n",
    "**b)Training the model**: This involves feeding the training data to the model,adjusting the model's \n",
    "  parameters(weights and bias) ,providing optimising algorithm and loss function.\n",
    "  \n",
    "**c)Evaluation of Model**: Once trained, evaluating model's performance using test dataset.This step         calculates how well the model generalizes to unseen data.\n",
    " \n",
    "So our ANN model below consists of sequential model with activation function \"ReLU\" to be used in the hidden layers of the neural network.\"ReLU\" stands for Rectified Linear Unit,one hidden layers with 6 neurons and one output layer.\n"
   ]
  },
  {
   "cell_type": "code",
   "execution_count": null,
   "id": "74219c1d-5238-4807-b95f-13af5ab8b04c",
   "metadata": {},
   "outputs": [],
   "source": [
    "#1. Model Definition \n",
    "from tensorflow.keras.models import Sequential\n",
    "from tensorflow.keras import layers\n",
    "from tensorflow.keras.backend import clear_session\n",
    "\n",
    "# Clearing data from any ANN previous model\n",
    "clear_session()\n",
    "\n",
    "# Input dimenstion (Number of features)\n",
    "input_dim = 6\n",
    "\n",
    "model = Sequential()\n",
    "model.add(layers.Dense(6, input_dim=input_dim, activation='relu'))\n",
    "model.add(layers.Dense(1, activation='sigmoid'))\n",
    "\n",
    "model.compile(loss='binary_crossentropy', optimizer='adam', metrics=['accuracy'])\n",
    "model.summary()"
   ]
  },
  {
   "cell_type": "code",
   "execution_count": 24,
   "id": "4b9288f9-0296-41b9-aeee-8a972fa2c947",
   "metadata": {},
   "outputs": [
    {
     "name": "stdout",
     "output_type": "stream",
     "text": [
      "Epoch 1/12\n",
      "740/740 [==============================] - 3s 3ms/step - loss: 0.6819 - accuracy: 0.5508 - val_loss: 0.6781 - val_accuracy: 0.5539\n",
      "Epoch 2/12\n",
      "740/740 [==============================] - 2s 3ms/step - loss: 0.6775 - accuracy: 0.5535 - val_loss: 0.6775 - val_accuracy: 0.5546\n",
      "Epoch 3/12\n",
      "740/740 [==============================] - 2s 3ms/step - loss: 0.6774 - accuracy: 0.5538 - val_loss: 0.6776 - val_accuracy: 0.5546\n",
      "Epoch 4/12\n",
      "740/740 [==============================] - 2s 3ms/step - loss: 0.6773 - accuracy: 0.5538 - val_loss: 0.6776 - val_accuracy: 0.5546\n",
      "Epoch 5/12\n",
      "740/740 [==============================] - 2s 3ms/step - loss: 0.6773 - accuracy: 0.5538 - val_loss: 0.6775 - val_accuracy: 0.5546\n",
      "Epoch 6/12\n",
      "740/740 [==============================] - 2s 3ms/step - loss: 0.6773 - accuracy: 0.5538 - val_loss: 0.6774 - val_accuracy: 0.5546\n",
      "Epoch 7/12\n",
      "740/740 [==============================] - 2s 3ms/step - loss: 0.6773 - accuracy: 0.5538 - val_loss: 0.6774 - val_accuracy: 0.5546\n",
      "Epoch 8/12\n",
      "740/740 [==============================] - 2s 3ms/step - loss: 0.6773 - accuracy: 0.5538 - val_loss: 0.6774 - val_accuracy: 0.5546\n",
      "Epoch 9/12\n",
      "740/740 [==============================] - 2s 3ms/step - loss: 0.6773 - accuracy: 0.5538 - val_loss: 0.6774 - val_accuracy: 0.5546\n",
      "Epoch 10/12\n",
      "740/740 [==============================] - 2s 3ms/step - loss: 0.6773 - accuracy: 0.5538 - val_loss: 0.6774 - val_accuracy: 0.5546\n",
      "Epoch 11/12\n",
      "740/740 [==============================] - 2s 3ms/step - loss: 0.6773 - accuracy: 0.5538 - val_loss: 0.6774 - val_accuracy: 0.5546\n",
      "Epoch 12/12\n",
      "740/740 [==============================] - 2s 3ms/step - loss: 0.6773 - accuracy: 0.5538 - val_loss: 0.6774 - val_accuracy: 0.5546\n"
     ]
    }
   ],
   "source": [
    "#training our Artificial Neural Network:\n",
    "history = model.fit(X_train, y_train, epochs=12, verbose=True, validation_split=0.2, batch_size=500)"
   ]
  },
  {
   "cell_type": "code",
   "execution_count": 25,
   "id": "495d3094-b4c7-4185-81db-236d93dc6436",
   "metadata": {},
   "outputs": [
    {
     "data": {
      "image/png": "[encoded data removed]",
      "text/plain": [
       "<Figure size 864x360 with 2 Axes>"
      ]
     },
     "metadata": {
      "needs_background": "light"
     },
     "output_type": "display_data"
    }
   ],
   "source": [
    "# Function for plotting the training & validation curves\n",
    "def plot_history(history):\n",
    "    acc = history.history['accuracy']\n",
    "    val_acc = history.history['val_accuracy']\n",
    "    loss = history.history['loss']\n",
    "    val_loss = history.history['val_loss']\n",
    "    x = range(1, len(acc) + 1)\n",
    "\n",
    "    plt.figure(figsize=(12, 5))\n",
    "    plt.subplot(1, 2, 1)\n",
    "    plt.plot(x, acc, label='Training acc')\n",
    "    plt.plot(x, val_acc, label='Validation acc')\n",
    "    plt.title('Training and validation accuracy')\n",
    "    plt.legend()\n",
    "    plt.subplot(1, 2, 2)\n",
    "    plt.plot(x, loss, label='Training loss')\n",
    "    plt.plot(x, val_loss, label='Validation loss')\n",
    "    plt.title('Training and validation loss')\n",
    "    plt.legend()\n",
    "    \n",
    "plot_history(history)"
   ]
  },
  {
   "cell_type": "markdown",
   "id": "bf826f3c-e05a-4c1e-afd3-f5ce9456f614",
   "metadata": {},
   "source": [
    "\n",
    "Our dataset is trained and the plot of training and validation curves above shows that the plots after 12 \n",
    "epochs are quite similar so no problem of overfitting here so lets proceed with evaluation.\n"
   ]
  },
  {
   "cell_type": "code",
   "execution_count": 26,
   "id": "e838d774-365d-4fe4-a21f-ee6e7a11cb90",
   "metadata": {},
   "outputs": [
    {
     "name": "stdout",
     "output_type": "stream",
     "text": [
      "Training Accuracy: 0.5540\n",
      "Testing Accuracy:  0.5541\n"
     ]
    }
   ],
   "source": [
    "#3. Evaluation\n",
    "loss, accuracy = model.evaluate(X_train, y_train, verbose=False)\n",
    "print(\"Training Accuracy: {:.4f}\".format(accuracy))\n",
    "loss, accuracy = model.evaluate(X_test, y_test, verbose=False)\n",
    "print(\"Testing Accuracy:  {:.4f}\".format(accuracy))\n"
   ]
  },
  {
   "cell_type": "markdown",
   "id": "8e276ff7-d530-46fa-a3ef-eda46d66ff6f",
   "metadata": {},
   "source": [
    "\n",
    "The results obtained from above model are not very good,though there is no difference in training and testing accuracy but performance of the model can be improved. We have only used few words that might have limited the potential of our ANN model so now we are going to use tokensizer from keras which will use all words from reviews text and create a dictionary and sort it by frequency of words. We are expecting our model to perform better this time as number of input has increased.\n"
   ]
  },
  {
   "cell_type": "code",
   "execution_count": 27,
   "id": "ab78bbec-eba2-4e47-bdba-d93fbec9d9dc",
   "metadata": {},
   "outputs": [
    {
     "data": {
      "text/html": [
       "<div>\n",
       "<style scoped>\n",
       "    .dataframe tbody tr th:only-of-type {\n",
       "        vertical-align: middle;\n",
       "    }\n",
       "\n",
       "    .dataframe tbody tr th {\n",
       "        vertical-align: top;\n",
       "    }\n",
       "\n",
       "    .dataframe thead th {\n",
       "        text-align: right;\n",
       "    }\n",
       "</style>\n",
       "<table border=\"1\" class=\"dataframe\">\n",
       "  <thead>\n",
       "    <tr style=\"text-align: right;\">\n",
       "      <th></th>\n",
       "      <th>frequency</th>\n",
       "    </tr>\n",
       "  </thead>\n",
       "  <tbody>\n",
       "    <tr>\n",
       "      <th>039</th>\n",
       "      <td>350546</td>\n",
       "    </tr>\n",
       "    <tr>\n",
       "      <th>i</th>\n",
       "      <td>275347</td>\n",
       "    </tr>\n",
       "    <tr>\n",
       "      <th>taking</th>\n",
       "      <td>177302</td>\n",
       "    </tr>\n",
       "    <tr>\n",
       "      <th>pain</th>\n",
       "      <td>170235</td>\n",
       "    </tr>\n",
       "    <tr>\n",
       "      <th>it</th>\n",
       "      <td>162842</td>\n",
       "    </tr>\n",
       "    <tr>\n",
       "      <th>day</th>\n",
       "      <td>159213</td>\n",
       "    </tr>\n",
       "    <tr>\n",
       "      <th>side</th>\n",
       "      <td>158292</td>\n",
       "    </tr>\n",
       "    <tr>\n",
       "      <th>take</th>\n",
       "      <td>148121</td>\n",
       "    </tr>\n",
       "    <tr>\n",
       "      <th>t</th>\n",
       "      <td>133270</td>\n",
       "    </tr>\n",
       "    <tr>\n",
       "      <th>effects</th>\n",
       "      <td>130242</td>\n",
       "    </tr>\n",
       "    <tr>\n",
       "      <th>years</th>\n",
       "      <td>124054</td>\n",
       "    </tr>\n",
       "    <tr>\n",
       "      <th>like</th>\n",
       "      <td>116582</td>\n",
       "    </tr>\n",
       "    <tr>\n",
       "      <th>2</th>\n",
       "      <td>115076</td>\n",
       "    </tr>\n",
       "    <tr>\n",
       "      <th>get</th>\n",
       "      <td>112675</td>\n",
       "    </tr>\n",
       "    <tr>\n",
       "      <th>medication</th>\n",
       "      <td>110708</td>\n",
       "    </tr>\n",
       "  </tbody>\n",
       "</table>\n",
       "</div>"
      ],
      "text/plain": [
       "            frequency\n",
       "039            350546\n",
       "i              275347\n",
       "taking         177302\n",
       "pain           170235\n",
       "it             162842\n",
       "day            159213\n",
       "side           158292\n",
       "take           148121\n",
       "t              133270\n",
       "effects        130242\n",
       "years          124054\n",
       "like           116582\n",
       "2              115076\n",
       "get            112675\n",
       "medication     110708"
      ]
     },
     "execution_count": 27,
     "metadata": {},
     "output_type": "execute_result"
    }
   ],
   "source": [
    "#creating dictionary of words based on actual text\n",
    "\n",
    "# Defining the tokenizer.\n",
    "tokenizer1 = Tokenizer(filters='!\"#$%&()*+,-./:;<=>?@[\\\\]^_`{|}~\\t\\n', lower=True, split=' ', num_words = 1000)\n",
    "# Convert the column reviews to a list of texts properly formatted\n",
    "alltext = df[\"review\"].astype(str).to_list()\n",
    "# Extracting the dictionary of words from the text\n",
    "tokenizer1.fit_on_texts(alltext)\n",
    "# Creating a dataframe with the word count\n",
    "dfwords = pd.DataFrame.from_dict(tokenizer1.word_counts, orient=\"index\",columns=[\"frequency\"])\n",
    "# Showing the top 15 words\n",
    "dfwords.sort_values(by=\"frequency\", ascending=False).head(15)"
   ]
  },
  {
   "cell_type": "markdown",
   "id": "134e2e02-85c6-433f-8eb1-078e183375d2",
   "metadata": {},
   "source": [
    "\n",
    "In general, most frequently occuring words are common english words as we have seen above,so lets check if we got some significant words from text review,by checking words randomly in the middle.\n",
    " "
   ]
  },
  {
   "cell_type": "code",
   "execution_count": 28,
   "id": "7d574c1b-f712-4fd4-8b25-bca1f9048dd8",
   "metadata": {},
   "outputs": [
    {
     "data": {
      "text/html": [
       "<div>\n",
       "<style scoped>\n",
       "    .dataframe tbody tr th:only-of-type {\n",
       "        vertical-align: middle;\n",
       "    }\n",
       "\n",
       "    .dataframe tbody tr th {\n",
       "        vertical-align: top;\n",
       "    }\n",
       "\n",
       "    .dataframe thead th {\n",
       "        text-align: right;\n",
       "    }\n",
       "</style>\n",
       "<table border=\"1\" class=\"dataframe\">\n",
       "  <thead>\n",
       "    <tr style=\"text-align: right;\">\n",
       "      <th></th>\n",
       "      <th>frequency</th>\n",
       "    </tr>\n",
       "  </thead>\n",
       "  <tbody>\n",
       "    <tr>\n",
       "      <th>normally</th>\n",
       "      <td>5172</td>\n",
       "    </tr>\n",
       "    <tr>\n",
       "      <th>knew</th>\n",
       "      <td>5171</td>\n",
       "    </tr>\n",
       "    <tr>\n",
       "      <th>yesterday</th>\n",
       "      <td>5156</td>\n",
       "    </tr>\n",
       "    <tr>\n",
       "      <th>focus</th>\n",
       "      <td>5149</td>\n",
       "    </tr>\n",
       "    <tr>\n",
       "      <th>supposed</th>\n",
       "      <td>5146</td>\n",
       "    </tr>\n",
       "    <tr>\n",
       "      <th>hungry</th>\n",
       "      <td>5143</td>\n",
       "    </tr>\n",
       "    <tr>\n",
       "      <th>child</th>\n",
       "      <td>5107</td>\n",
       "    </tr>\n",
       "    <tr>\n",
       "      <th>smoking</th>\n",
       "      <td>5091</td>\n",
       "    </tr>\n",
       "    <tr>\n",
       "      <th>suggested</th>\n",
       "      <td>5078</td>\n",
       "    </tr>\n",
       "    <tr>\n",
       "      <th>c</th>\n",
       "      <td>5052</td>\n",
       "    </tr>\n",
       "    <tr>\n",
       "      <th>bowel</th>\n",
       "      <td>5046</td>\n",
       "    </tr>\n",
       "    <tr>\n",
       "      <th>hand</th>\n",
       "      <td>5043</td>\n",
       "    </tr>\n",
       "    <tr>\n",
       "      <th>wrong</th>\n",
       "      <td>5024</td>\n",
       "    </tr>\n",
       "    <tr>\n",
       "      <th>walking</th>\n",
       "      <td>5021</td>\n",
       "    </tr>\n",
       "    <tr>\n",
       "      <th>nights</th>\n",
       "      <td>5019</td>\n",
       "    </tr>\n",
       "    <tr>\n",
       "      <th>add</th>\n",
       "      <td>5019</td>\n",
       "    </tr>\n",
       "    <tr>\n",
       "      <th>adhd</th>\n",
       "      <td>5018</td>\n",
       "    </tr>\n",
       "    <tr>\n",
       "      <th>tablet</th>\n",
       "      <td>4995</td>\n",
       "    </tr>\n",
       "    <tr>\n",
       "      <th>lyrica</th>\n",
       "      <td>4973</td>\n",
       "    </tr>\n",
       "    <tr>\n",
       "      <th>straight</th>\n",
       "      <td>4971</td>\n",
       "    </tr>\n",
       "  </tbody>\n",
       "</table>\n",
       "</div>"
      ],
      "text/plain": [
       "           frequency\n",
       "normally        5172\n",
       "knew            5171\n",
       "yesterday       5156\n",
       "focus           5149\n",
       "supposed        5146\n",
       "hungry          5143\n",
       "child           5107\n",
       "smoking         5091\n",
       "suggested       5078\n",
       "c               5052\n",
       "bowel           5046\n",
       "hand            5043\n",
       "wrong           5024\n",
       "walking         5021\n",
       "nights          5019\n",
       "add             5019\n",
       "adhd            5018\n",
       "tablet          4995\n",
       "lyrica          4973\n",
       "straight        4971"
      ]
     },
     "execution_count": 28,
     "metadata": {},
     "output_type": "execute_result"
    }
   ],
   "source": [
    "# Showing the words between the 800th and 815th position.\n",
    "dfwords.sort_values(by=\"frequency\", ascending=False).iloc[700:720,:]"
   ]
  },
  {
   "cell_type": "code",
   "execution_count": 29,
   "id": "b7736332-df3b-40b8-8061-2279fe7c5a43",
   "metadata": {},
   "outputs": [
    {
     "data": {
      "text/html": [
       "<div>\n",
       "<style scoped>\n",
       "    .dataframe tbody tr th:only-of-type {\n",
       "        vertical-align: middle;\n",
       "    }\n",
       "\n",
       "    .dataframe tbody tr th {\n",
       "        vertical-align: top;\n",
       "    }\n",
       "\n",
       "    .dataframe thead th {\n",
       "        text-align: right;\n",
       "    }\n",
       "</style>\n",
       "<table border=\"1\" class=\"dataframe\">\n",
       "  <thead>\n",
       "    <tr style=\"text-align: right;\">\n",
       "      <th></th>\n",
       "      <th>uniqueID</th>\n",
       "      <th>drugName</th>\n",
       "      <th>review</th>\n",
       "      <th>rating</th>\n",
       "      <th>sentiment</th>\n",
       "      <th>sequences</th>\n",
       "    </tr>\n",
       "  </thead>\n",
       "  <tbody>\n",
       "    <tr>\n",
       "      <th>0</th>\n",
       "      <td>206461</td>\n",
       "      <td>Valsartan</td>\n",
       "      <td>\"It side effect, take combination Bystolic 5 M...</td>\n",
       "      <td>9</td>\n",
       "      <td>1</td>\n",
       "      <td>[5, 7, 109, 8, 773, 47, 69, 0, 0, 0, 0, 0, 0, ...</td>\n",
       "    </tr>\n",
       "    <tr>\n",
       "      <th>1</th>\n",
       "      <td>95260</td>\n",
       "      <td>Guanfacine</td>\n",
       "      <td>\"My son halfway fourth week Intuniv. became co...</td>\n",
       "      <td>8</td>\n",
       "      <td>1</td>\n",
       "      <td>[318, 475, 35, 327, 850, 260, 85, 35, 16, 3, 7...</td>\n",
       "    </tr>\n",
       "    <tr>\n",
       "      <th>2</th>\n",
       "      <td>92703</td>\n",
       "      <td>Lybrel</td>\n",
       "      <td>\"I used take another oral contraceptive, 21 pi...</td>\n",
       "      <td>5</td>\n",
       "      <td>0</td>\n",
       "      <td>[2, 87, 8, 171, 822, 33, 604, 204, 288, 167, 4...</td>\n",
       "    </tr>\n",
       "    <tr>\n",
       "      <th>3</th>\n",
       "      <td>138000</td>\n",
       "      <td>Ortho Evra</td>\n",
       "      <td>\"This first time using form birth control. I&amp;#...</td>\n",
       "      <td>8</td>\n",
       "      <td>1</td>\n",
       "      <td>[101, 19, 17, 100, 633, 123, 81, 2, 1, 29, 577...</td>\n",
       "    </tr>\n",
       "    <tr>\n",
       "      <th>4</th>\n",
       "      <td>35696</td>\n",
       "      <td>Buprenorphine / naloxone</td>\n",
       "      <td>\"Suboxone completely turned life around. feel ...</td>\n",
       "      <td>9</td>\n",
       "      <td>1</td>\n",
       "      <td>[228, 779, 43, 177, 22, 2, 1, 29, 409, 169, 83...</td>\n",
       "    </tr>\n",
       "  </tbody>\n",
       "</table>\n",
       "</div>"
      ],
      "text/plain": [
       "   uniqueID                  drugName  \\\n",
       "0    206461                 Valsartan   \n",
       "1     95260                Guanfacine   \n",
       "2     92703                    Lybrel   \n",
       "3    138000                Ortho Evra   \n",
       "4     35696  Buprenorphine / naloxone   \n",
       "\n",
       "                                              review  rating  sentiment  \\\n",
       "0  \"It side effect, take combination Bystolic 5 M...       9          1   \n",
       "1  \"My son halfway fourth week Intuniv. became co...       8          1   \n",
       "2  \"I used take another oral contraceptive, 21 pi...       5          0   \n",
       "3  \"This first time using form birth control. I&#...       8          1   \n",
       "4  \"Suboxone completely turned life around. feel ...       9          1   \n",
       "\n",
       "                                           sequences  \n",
       "0  [5, 7, 109, 8, 773, 47, 69, 0, 0, 0, 0, 0, 0, ...  \n",
       "1  [318, 475, 35, 327, 850, 260, 85, 35, 16, 3, 7...  \n",
       "2  [2, 87, 8, 171, 822, 33, 604, 204, 288, 167, 4...  \n",
       "3  [101, 19, 17, 100, 633, 123, 81, 2, 1, 29, 577...  \n",
       "4  [228, 779, 43, 177, 22, 2, 1, 29, 409, 169, 83...  "
      ]
     },
     "execution_count": 29,
     "metadata": {},
     "output_type": "execute_result"
    }
   ],
   "source": [
    "# applying sequence vector, not counting \n",
    "from tensorflow.keras.preprocessing.sequence import pad_sequences\n",
    "\n",
    "## Transform training reviews into sequences:  \n",
    "sequences = tokenizer1.texts_to_sequences(df[\"review\"].astype(str).to_list())\n",
    "padded = pad_sequences(sequences, maxlen=50, padding='post', truncating='post')\n",
    "df[\"sequences\"] = list(padded)\n",
    "df.head()\n"
   ]
  },
  {
   "cell_type": "markdown",
   "id": "5504c69d-f5e6-4034-ab3c-0fcfc75f1a4e",
   "metadata": {},
   "source": [
    "\n",
    "We have applied sequence vector above, rather than counting the occurence of words in the text.This will \n",
    "solve the complexities of natural language and our ANN model would be able to distinguish between actual \n",
    "positive or actual negative sentiment and performance of the model will increase.Also we have applied padding to make our text length homogeneous so thet our ANN Model would have fixed size of all reviews.In the next section, we are going to define and train our ANN model.\n"
   ]
  },
  {
   "cell_type": "code",
   "execution_count": 30,
   "id": "7d0c7c52-8147-4bc1-a7fb-932b30120cb9",
   "metadata": {},
   "outputs": [],
   "source": [
    "# Converting to list and then to numpy array\n",
    "X1 = np.array(df[\"sequences\"].to_list())\n",
    "y1 = np.array(df['sentiment'].to_list())\n",
    "\n",
    "# Use the train_test_split from the sklearn library\n",
    "X1_train, X1_test, y1_train, y1_test = train_test_split(X1, y1, test_size=0.2, random_state=28)"
   ]
  },
  {
   "cell_type": "code",
   "execution_count": 31,
   "id": "a2cca38c-f2dc-4fd5-86a4-7a3e7b84e497",
   "metadata": {},
   "outputs": [
    {
     "name": "stdout",
     "output_type": "stream",
     "text": [
      "Model: \"sequential\"\n",
      "_________________________________________________________________\n",
      " Layer (type)                Output Shape              Param #   \n",
      "=================================================================\n",
      " embedding (Embedding)       (None, 50, 32)            32000     \n",
      "                                                                 \n",
      " flatten (Flatten)           (None, 1600)              0         \n",
      "                                                                 \n",
      " dense (Dense)               (None, 6)                 9606      \n",
      "                                                                 \n",
      " dense_1 (Dense)             (None, 1)                 7         \n",
      "                                                                 \n",
      "=================================================================\n",
      "Total params: 41,613\n",
      "Trainable params: 41,613\n",
      "Non-trainable params: 0\n",
      "_________________________________________________________________\n"
     ]
    }
   ],
   "source": [
    "from tensorflow.keras.layers import Embedding\n",
    "\n",
    "# Clear the session of previous ANN\n",
    "clear_session()\n",
    "\n",
    "#1. Model Definition\n",
    "model1 = Sequential()\n",
    "model1.add(layers.Embedding(input_dim=1000, output_dim=32, input_length=50))\n",
    "model1.add(layers.Flatten())\n",
    "model1.add(layers.Dense(6, activation='relu'))\n",
    "model1.add(layers.Dense(1, activation='sigmoid'))\n",
    "\n",
    "model1.compile(loss='binary_crossentropy', optimizer='adam', metrics=['accuracy'])\n",
    "model1.summary()"
   ]
  },
  {
   "cell_type": "code",
   "execution_count": 32,
   "id": "fa078aa8-f62e-4aae-b29d-956e52f8a833",
   "metadata": {},
   "outputs": [
    {
     "name": "stdout",
     "output_type": "stream",
     "text": [
      "Epoch 1/12\n",
      "740/740 [==============================] - 9s 10ms/step - loss: 0.5440 - accuracy: 0.7174 - val_loss: 0.5042 - val_accuracy: 0.7526\n",
      "Epoch 2/12\n",
      "740/740 [==============================] - 7s 10ms/step - loss: 0.4985 - accuracy: 0.7559 - val_loss: 0.4989 - val_accuracy: 0.7567\n",
      "Epoch 3/12\n",
      "740/740 [==============================] - 7s 10ms/step - loss: 0.4869 - accuracy: 0.7633 - val_loss: 0.4982 - val_accuracy: 0.7578\n",
      "Epoch 4/12\n",
      "740/740 [==============================] - 8s 10ms/step - loss: 0.4761 - accuracy: 0.7698 - val_loss: 0.4996 - val_accuracy: 0.7577\n",
      "Epoch 5/12\n",
      "740/740 [==============================] - 8s 10ms/step - loss: 0.4664 - accuracy: 0.7764 - val_loss: 0.4999 - val_accuracy: 0.7576\n",
      "Epoch 6/12\n",
      "740/740 [==============================] - 8s 10ms/step - loss: 0.4579 - accuracy: 0.7817 - val_loss: 0.5022 - val_accuracy: 0.7575\n",
      "Epoch 7/12\n",
      "740/740 [==============================] - 8s 10ms/step - loss: 0.4510 - accuracy: 0.7864 - val_loss: 0.5038 - val_accuracy: 0.7584\n",
      "Epoch 8/12\n",
      "740/740 [==============================] - 8s 10ms/step - loss: 0.4446 - accuracy: 0.7899 - val_loss: 0.5067 - val_accuracy: 0.7580\n",
      "Epoch 9/12\n",
      "740/740 [==============================] - 7s 10ms/step - loss: 0.4394 - accuracy: 0.7938 - val_loss: 0.5079 - val_accuracy: 0.7574\n",
      "Epoch 10/12\n",
      "740/740 [==============================] - 8s 10ms/step - loss: 0.4350 - accuracy: 0.7962 - val_loss: 0.5119 - val_accuracy: 0.7575\n",
      "Epoch 11/12\n",
      "740/740 [==============================] - 8s 10ms/step - loss: 0.4310 - accuracy: 0.7981 - val_loss: 0.5123 - val_accuracy: 0.7589\n",
      "Epoch 12/12\n",
      "740/740 [==============================] - 7s 10ms/step - loss: 0.4274 - accuracy: 0.8004 - val_loss: 0.5170 - val_accuracy: 0.7573\n"
     ]
    },
    {
     "data": {
      "image/png": "[encoded data removed]",
      "text/plain": [
       "<Figure size 864x360 with 2 Axes>"
      ]
     },
     "metadata": {
      "needs_background": "light"
     },
     "output_type": "display_data"
    }
   ],
   "source": [
    "# 2. Training the Model\n",
    "history = model1.fit(X1_train, y1_train, epochs=12, verbose=True, validation_split=0.2, batch_size=500)\n",
    "plot_history(history)\n"
   ]
  },
  {
   "cell_type": "markdown",
   "id": "c7039a25-4358-4649-89bc-bd745884efd2",
   "metadata": {},
   "source": [
    "\n",
    "The plots obtained above are different from simple classifier,but positive part is,performance of the model\n",
    "has increased.This clearly indicates that more words and complex structure can make ANN model good for sentiment analysis.However our plot shows the signs of overfitting as training curve is going up.The performance has increased but there is a gap in training and testing accuracies as seen in below accuracies.\n"
   ]
  },
  {
   "cell_type": "code",
   "execution_count": 33,
   "id": "e4633737-96e7-4433-897a-d3cb5ccd0b6a",
   "metadata": {},
   "outputs": [
    {
     "name": "stdout",
     "output_type": "stream",
     "text": [
      "Training Accuracy: 0.7995\n",
      "Testing Accuracy:  0.7568\n"
     ]
    }
   ],
   "source": [
    "# 3. Evaluation of Model\n",
    "loss, accuracy = model1.evaluate(X1_train, y1_train, verbose=False)\n",
    "print(\"Training Accuracy: {:.4f}\".format(accuracy))\n",
    "loss, accuracy = model1.evaluate(X1_test, y1_test, verbose=False)\n",
    "print(\"Testing Accuracy:  {:.4f}\".format(accuracy))"
   ]
  },
  {
   "cell_type": "markdown",
   "id": "59ded6db-6424-4ebc-8da9-99c161342e2c",
   "metadata": {},
   "source": [
    "\n",
    "In the next section, we are going to make few changes in order to reduce the overfitting.First we are going to increase the length of the sequence and add two dense (fully connected) layers with the activation function 'tanh' to a Keras model.We are also going to increase the number of neurons and finally we will replace flatten() with GlobalAveragePooling1D() to reduce the number of parameters.\n"
   ]
  },
  {
   "cell_type": "code",
   "execution_count": 34,
   "id": "3d90f913-4e7a-49a9-8950-b665e4ffa3d7",
   "metadata": {},
   "outputs": [],
   "source": [
    "#Trying max len=100 and diff parameters, lets see , if accuracy of the model can be improved\n",
    "sequences = tokenizer1.texts_to_sequences(df[\"review\"].astype(str).to_list())\n",
    "padded1 = pad_sequences(sequences, maxlen=100, padding='post', truncating='post')\n",
    "df[\"sequences\"] = list(padded1)\n",
    "\n",
    "X2 = np.array(df[\"sequences\"].to_list())\n",
    "y2 = np.array(df['sentiment'].to_list())\n",
    "\n",
    "X2_train, X2_test, y2_train, y2_test = train_test_split(X2, y2, test_size=0.2, random_state=28)\n"
   ]
  },
  {
   "cell_type": "code",
   "execution_count": 35,
   "id": "78ca6945-d2ed-4f48-a5fb-cc49081ba19f",
   "metadata": {},
   "outputs": [
    {
     "name": "stdout",
     "output_type": "stream",
     "text": [
      "Model: \"sequential\"\n",
      "_________________________________________________________________\n",
      " Layer (type)                Output Shape              Param #   \n",
      "=================================================================\n",
      " embedding (Embedding)       (None, 100, 32)           32000     \n",
      "                                                                 \n",
      " global_average_pooling1d (G  (None, 32)               0         \n",
      " lobalAveragePooling1D)                                          \n",
      "                                                                 \n",
      " dense (Dense)               (None, 32)                1056      \n",
      "                                                                 \n",
      " dense_1 (Dense)             (None, 16)                528       \n",
      "                                                                 \n",
      " dense_2 (Dense)             (None, 1)                 17        \n",
      "                                                                 \n",
      "=================================================================\n",
      "Total params: 33,601\n",
      "Trainable params: 33,601\n",
      "Non-trainable params: 0\n",
      "_________________________________________________________________\n"
     ]
    }
   ],
   "source": [
    "# Clear the session of any previous ANN\n",
    "clear_session()\n",
    "\n",
    "# 1. Definition\n",
    "model2 = Sequential()\n",
    "model2.add(layers.Embedding(input_dim=1000, output_dim=32, input_length=100))\n",
    "model2.add(layers.GlobalAveragePooling1D())\n",
    "model2.add(layers.Dense(32, activation='tanh'))\n",
    "model2.add(layers.Dense(16, activation='tanh'))\n",
    "model2.add(layers.Dense(1, activation='sigmoid'))\n",
    "\n",
    "model2.compile(loss='binary_crossentropy', optimizer='adam', metrics=['accuracy'])\n",
    "model2.summary()\n"
   ]
  },
  {
   "cell_type": "code",
   "execution_count": 36,
   "id": "a59ec29f-6e73-4dc9-b324-77389d4c405b",
   "metadata": {},
   "outputs": [
    {
     "name": "stdout",
     "output_type": "stream",
     "text": [
      "Epoch 1/12\n",
      "740/740 [==============================] - 12s 15ms/step - loss: 0.5529 - accuracy: 0.7116 - val_loss: 0.5238 - val_accuracy: 0.7477\n",
      "Epoch 2/12\n",
      "740/740 [==============================] - 11s 15ms/step - loss: 0.5240 - accuracy: 0.7393 - val_loss: 0.5225 - val_accuracy: 0.7438\n",
      "Epoch 3/12\n",
      "740/740 [==============================] - 11s 15ms/step - loss: 0.5221 - accuracy: 0.7409 - val_loss: 0.5217 - val_accuracy: 0.7423\n",
      "Epoch 4/12\n",
      "740/740 [==============================] - 11s 15ms/step - loss: 0.5206 - accuracy: 0.7411 - val_loss: 0.5195 - val_accuracy: 0.7466\n",
      "Epoch 5/12\n",
      "740/740 [==============================] - 11s 15ms/step - loss: 0.5199 - accuracy: 0.7414 - val_loss: 0.5198 - val_accuracy: 0.7301\n",
      "Epoch 6/12\n",
      "740/740 [==============================] - 11s 15ms/step - loss: 0.5196 - accuracy: 0.7410 - val_loss: 0.5199 - val_accuracy: 0.7301\n",
      "Epoch 7/12\n",
      "740/740 [==============================] - 11s 15ms/step - loss: 0.5194 - accuracy: 0.7418 - val_loss: 0.5192 - val_accuracy: 0.7465\n",
      "Epoch 8/12\n",
      "740/740 [==============================] - 11s 15ms/step - loss: 0.5191 - accuracy: 0.7420 - val_loss: 0.5188 - val_accuracy: 0.7488\n",
      "Epoch 9/12\n",
      "740/740 [==============================] - 11s 15ms/step - loss: 0.5185 - accuracy: 0.7426 - val_loss: 0.5182 - val_accuracy: 0.7476\n",
      "Epoch 10/12\n",
      "740/740 [==============================] - 11s 15ms/step - loss: 0.5171 - accuracy: 0.7416 - val_loss: 0.5172 - val_accuracy: 0.7428\n",
      "Epoch 11/12\n",
      "740/740 [==============================] - 11s 15ms/step - loss: 0.5126 - accuracy: 0.7403 - val_loss: 0.5127 - val_accuracy: 0.7311\n",
      "Epoch 12/12\n",
      "740/740 [==============================] - 11s 15ms/step - loss: 0.5088 - accuracy: 0.7410 - val_loss: 0.5089 - val_accuracy: 0.7307\n",
      "Training Accuracy: 0.7333\n",
      "Testing Accuracy:  0.7305\n"
     ]
    },
    {
     "data": {
      "image/png": "[encoded data removed]",
      "text/plain": [
       "<Figure size 864x360 with 2 Axes>"
      ]
     },
     "metadata": {
      "needs_background": "light"
     },
     "output_type": "display_data"
    }
   ],
   "source": [
    "# 2. Training\n",
    "history2 = model2.fit(X2_train, y2_train, epochs=12, verbose=True, validation_split=0.2, batch_size=500)\n",
    "plot_history(history2)\n",
    "\n",
    "# 3. Evaluation\n",
    "loss, accuracy = model2.evaluate(X2_train, y2_train, verbose=False)\n",
    "print(\"Training Accuracy: {:.4f}\".format(accuracy))\n",
    "loss, accuracy = model2.evaluate(X2_test, y2_test, verbose=False)\n",
    "print(\"Testing Accuracy:  {:.4f}\".format(accuracy))"
   ]
  },
  {
   "cell_type": "markdown",
   "id": "f218f65a-667f-43b9-b27c-5253eb3b82b5",
   "metadata": {},
   "source": [
    "\n",
    "After making changes mentioned above,Training accuracy has decreased slightly but gap between testing and training has gone,that suggests our model has acheived similar performance on both training and testing datasets.This indicates our model has generalized well and it is not overfitting to training data and model is reliable.\n"
   ]
  },
  {
   "cell_type": "markdown",
   "id": "29582591-7a00-4bd3-a834-042d2850d133",
   "metadata": {},
   "source": [
    "### Result\n",
    "\n",
    "After all the above analysis, we can sum up the result as:\n",
    "\n",
    "**Simple classifier**: Training Accuracy:0.5540 and Testing Accuracy:0.5541\n",
    "\n",
    "**ANN Model with 'relu'activation function**:Training Accuracy:0.7995 and Testing Accuracy:0.7568\n",
    "\n",
    "**ANN Model with more layers and 'tanh' activation function**:Training Accuracy: 0.7333 and Testing Accuracy: 0.7305\n",
    "\n"
   ]
  },
  {
   "cell_type": "markdown",
   "id": "bd36204d-1dcd-4072-bbd8-a88157846d19",
   "metadata": {},
   "source": [
    "### Conclusion\n",
    "\n",
    "Overall, the ANN models outperformed the simple classifier, demonstrating the ability of neural networks to capture more complex patterns in the data. The model with 'relu' activation achieved the highest accuracy, while the model with 'tanh' activation and more layers showed slightly lower accuracy but with reduced overfitting.\n",
    "\n",
    "Considering these results, the ANN model with 'relu' activation function appears to be the most effective in this analysis, achieving the highest accuracy on both the training and testing datasets. However, the choice of the best model ultimately depends on the specific requirements of the application and the trade-off between accuracy and model complexity.This analysis can be helpful not just for patients but also for doctors and pharma companies to check the reviews on various drugs in the market and make informed decision.\n",
    "\n"
   ]
  }
 ],
 "metadata": {
  "kernelspec": {
   "display_name": "Python 3",
   "language": "python",
   "name": "python3"
  },
  "language_info": {
   "codemirror_mode": {
    "name": "ipython",
    "version": 3
   },
   "file_extension": ".py",
   "mimetype": "text/x-python",
   "name": "python",
   "nbconvert_exporter": "python",
   "pygments_lexer": "ipython3",
   "version": "3.8.8"
  }
 },
 "nbformat": 4,
 "nbformat_minor": 5
}
